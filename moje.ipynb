{
 "cells": [
  {
   "cell_type": "code",
   "execution_count": 4,
   "metadata": {},
   "outputs": [
    {
     "name": "stdout",
     "output_type": "stream",
     "text": [
      "Unikátní čísla: {False, True, 4, 5.1, 5, 'auto', 'dd', 'd'}\n"
     ]
    }
   ],
   "source": [
    "cisla = [\"auto\", \"auto\", \"dd\", \"d\", 4, True, 4, 4, True, False, 5.1, 5, 5.1]\n",
    "unikatni_cisla = set(cisla)\n",
    "print(\"Unikátní čísla:\", unikatni_cisla)\n"
   ]
  },
  {
   "cell_type": "code",
   "execution_count": 3,
   "metadata": {},
   "outputs": [],
   "source": [
    "from datetime import datetime"
   ]
  },
  {
   "cell_type": "code",
   "execution_count": 87,
   "metadata": {},
   "outputs": [
    {
     "name": "stdout",
     "output_type": "stream",
     "text": [
      "2024-04-28 20:54:56.156244\n",
      "56\n",
      "1\n"
     ]
    }
   ],
   "source": [
    "print(datetime.now())\n",
    "print(datetime.now().second)\n",
    "print((datetime.now().second +5)%60)\n"
   ]
  },
  {
   "cell_type": "code",
   "execution_count": 88,
   "metadata": {},
   "outputs": [
    {
     "name": "stdout",
     "output_type": "stream",
     "text": [
      "Hodnota čísla je: 0\n",
      "Hodnota čísla je: 1\n",
      "Hodnota čísla je: 2\n",
      "Hodnota čísla je: 3\n",
      "Hodnota čísla je: 4\n"
     ]
    }
   ],
   "source": [
    "# Inicializace proměnné\n",
    "cislo = 0\n",
    "\n",
    "# Smyčka běží, dokud je proměnná cislo menší než 5\n",
    "while cislo < 5:\n",
    "    print(\"Hodnota čísla je:\", cislo)\n",
    "    # Zvýšení hodnoty proměnné o 1 při každém průchodu smyčkou\n",
    "    cislo += 1\n"
   ]
  },
  {
   "cell_type": "code",
   "execution_count": 89,
   "metadata": {},
   "outputs": [
    {
     "name": "stdout",
     "output_type": "stream",
     "text": [
      "Hodnota čísla je: 1\n",
      "Hodnota čísla je: 2\n",
      "Hodnota čísla je: 3\n",
      "Hodnota čísla je: 4\n",
      "Hodnota čísla je: 5\n"
     ]
    }
   ],
   "source": [
    "cislo = 0\n",
    "while cislo < 5:\n",
    "    cislo += 1\n",
    "    if cislo == 3:\n",
    "        pass  # Nic se neděje, smyčka pokračuje normálně\n",
    "    print(\"Hodnota čísla je:\", cislo)\n"
   ]
  },
  {
   "cell_type": "code",
   "execution_count": 90,
   "metadata": {},
   "outputs": [
    {
     "name": "stdout",
     "output_type": "stream",
     "text": [
      "Hodnota čísla je: 0\n",
      "Hodnota čísla je: 1\n",
      "Hodnota čísla je: 2\n"
     ]
    }
   ],
   "source": [
    "cislo = 0\n",
    "while cislo < 5:\n",
    "    if cislo == 3:\n",
    "        break  # Smyčka se okamžitě ukončí, když cislo dosáhne 3\n",
    "    print(\"Hodnota čísla je:\", cislo)\n",
    "    cislo += 1\n"
   ]
  },
  {
   "cell_type": "code",
   "execution_count": 91,
   "metadata": {},
   "outputs": [
    {
     "name": "stdout",
     "output_type": "stream",
     "text": [
      "Hodnota čísla je: 1\n",
      "Hodnota čísla je: 2\n",
      "Hodnota čísla je: 4\n",
      "Hodnota čísla je: 5\n"
     ]
    }
   ],
   "source": [
    "cislo = 0\n",
    "while cislo < 5:\n",
    "    cislo += 1\n",
    "    if cislo == 3:\n",
    "        continue  # Preskočí zbytek kódu ve smyčce pro cislo 3\n",
    "    print(\"Hodnota čísla je:\", cislo)\n"
   ]
  },
  {
   "cell_type": "code",
   "execution_count": 25,
   "metadata": {},
   "outputs": [
    {
     "name": "stdout",
     "output_type": "stream",
     "text": [
      "2200288065600\n",
      "2200288065600\n",
      "[2, 3, 4, 5, 6]\n",
      "[2, 3, 4, 5, 6]\n",
      "2200288062912\n"
     ]
    }
   ],
   "source": [
    "l1 = [2,3,4]\n",
    "l2 = l1\n",
    "l1.append(5)\n",
    "l2.append(6)\n",
    "print(id(l1))\n",
    "print(id(l2))\n",
    "print(l1)\n",
    "print(l2)\n",
    "print(id([2,3,4,5,6]))\n",
    "print(id([2,3,4,5,6]))\n"
   ]
  },
  {
   "cell_type": "code",
   "execution_count": 34,
   "metadata": {},
   "outputs": [
    {
     "name": "stdout",
     "output_type": "stream",
     "text": [
      "2200288163584\n",
      "2200288163584\n",
      "2200288303296\n",
      "2200281494336\n",
      "True\n",
      "True\n",
      "True\n",
      "True\n",
      "True\n",
      "False\n",
      "False\n",
      "False\n"
     ]
    }
   ],
   "source": [
    "l1=[1,2,3]\n",
    "l2=l1\n",
    "l3=[1,2,3]\n",
    "print(id(l1))\n",
    "print(id(l2))\n",
    "print(id(l3))\n",
    "print(id([1,2,3]))\n",
    "print(l1==l2)\n",
    "print(l1 is l2)\n",
    "print(l1==l3)\n",
    "print(l1==[1,2,3])\n",
    "print(l2==[1,2,3])\n",
    "print(l1 is l3)\n",
    "print(l2 is l3)\n",
    "print(l1 is [1,2,3])"
   ]
  },
  {
   "cell_type": "code",
   "execution_count": 45,
   "metadata": {},
   "outputs": [
    {
     "name": "stdout",
     "output_type": "stream",
     "text": [
      "Není palidrom\n",
      "ja\n"
     ]
    }
   ],
   "source": [
    "slovo = \"ahoj\"\n",
    "if slovo == slovo[::-3]:\n",
    "    print(\"Palidrom\")\n",
    "else:\n",
    "    print(\"Není palidrom\")\n",
    "print(slovo[::-3])"
   ]
  },
  {
   "cell_type": "code",
   "execution_count": 48,
   "metadata": {},
   "outputs": [
    {
     "name": "stdout",
     "output_type": "stream",
     "text": [
      "140722024892856\n",
      "140722024892888\n",
      "140722024892856\n"
     ]
    }
   ],
   "source": [
    "a=1\n",
    "print(id(a))\n",
    "a=a+1\n",
    "print(id(a))\n",
    "print(id(1))"
   ]
  },
  {
   "cell_type": "code",
   "execution_count": 49,
   "metadata": {},
   "outputs": [
    {
     "name": "stdout",
     "output_type": "stream",
     "text": [
      "140722024926432\n"
     ]
    }
   ],
   "source": [
    "print(id(\"a\"))"
   ]
  },
  {
   "cell_type": "code",
   "execution_count": 50,
   "metadata": {},
   "outputs": [
    {
     "name": "stdout",
     "output_type": "stream",
     "text": [
      "140722024892984\n",
      "140722024892984\n",
      "True\n"
     ]
    }
   ],
   "source": [
    "# dvě proměnné, ale jejich hodnoty jsou stejné\n",
    "cislo_3 = 5\n",
    "cislo_4 = 5\n",
    "\n",
    "# oveříme, že funkce id teď vrátí stejné čísla\n",
    "print(id(cislo_3))\n",
    "print(id(cislo_4))\n",
    "\n",
    "# použijeme pro tebe nový operátor is \n",
    "# výsledkem bude True\n",
    "print(cislo_3 is cislo_4)"
   ]
  },
  {
   "cell_type": "code",
   "execution_count": 51,
   "metadata": {},
   "outputs": [
    {
     "name": "stdout",
     "output_type": "stream",
     "text": [
      "False\n",
      "True\n"
     ]
    }
   ],
   "source": [
    "a = [1,2,3]\n",
    "b = [1,2,3]\n",
    "print(a is b)\n",
    "print(a == b)"
   ]
  },
  {
   "cell_type": "code",
   "execution_count": 78,
   "metadata": {},
   "outputs": [
    {
     "name": "stdout",
     "output_type": "stream",
     "text": [
      "Anna\n",
      "Na 7 indexu je: Anežka\n",
      "V intervalu od 2 do 5 je: ['Anna', 'Jakub', 'Klára', 'Anežka']\n",
      "Každý třetí člen je: ['František', 'Jakub', 'Anežka']\n"
     ]
    }
   ],
   "source": [
    "zamestnanci =['František','Bruno','Anna', 'Jakub','Klára', 'Anežka','Anežka', 'Anežka']\n",
    "posledni_index = len(zamestnanci) - 1\n",
    "print(zamestnanci[2])\n",
    "print(\"Na \"+ str(posledni_index) + \" indexu je: \"+zamestnanci[posledni_index])\n",
    "print(\"V intervalu od 2 do 5 je: \" + str(zamestnanci[2:6]))\n",
    "print(\"Každý třetí člen je: \" + str(zamestnanci[::3]))"
   ]
  },
  {
   "cell_type": "code",
   "execution_count": 79,
   "metadata": {},
   "outputs": [
    {
     "name": "stdout",
     "output_type": "stream",
     "text": [
      "4\n"
     ]
    }
   ],
   "source": [
    "zadana_slova=[\"jaro\", \"jej\", \"kolo\", \"aha\"]\n",
    "print(len(zadana_slova))"
   ]
  },
  {
   "cell_type": "code",
   "execution_count": 1,
   "metadata": {},
   "outputs": [
    {
     "name": "stdout",
     "output_type": "stream",
     "text": [
      "['ahoj', 'bára', 'cena', 'chleba', 'moře', 'rýč', 'řepa', 'záhon']\n"
     ]
    }
   ],
   "source": [
    "import locale\n",
    "\n",
    "# Nastavení národního prostředí na české\n",
    "locale.setlocale(locale.LC_COLLATE, 'cs_CZ.UTF-8')\n",
    "\n",
    "# Vytvoření seznamu slov\n",
    "seznam_slov = [\"záhon\", \"ahoj\", \"bára\", \"cena\",\"moře\",\"chleba\",\"řepa\",\"rýč\"]\n",
    "\n",
    "# Seřazení seznamu podle české abecedy\n",
    "serazeny_seznam = sorted(seznam_slov, key=locale.strxfrm)\n",
    "\n",
    "# Výpis seřazeného seznamu\n",
    "print(serazeny_seznam)\n"
   ]
  },
  {
   "cell_type": "code",
   "execution_count": 7,
   "metadata": {},
   "outputs": [
    {
     "name": "stdout",
     "output_type": "stream",
     "text": [
      "Slovo 'jej' je palindrom!\n"
     ]
    }
   ],
   "source": [
    "#Cvičení 2: Palindrom\n",
    "zadana_slova = [\"jaro\", \"jej\", \"kolo\", \"aha\"]\n",
    "slovo=zadana_slova[1]\n",
    "if slovo==slovo[::-1]:\n",
    "    print(\"Slovo '\" + slovo +\"' je palindrom!\")\n",
    "else:\n",
    "    print(\"Slovo \" + slovo +\" není palindrom!\")\n"
   ]
  },
  {
   "cell_type": "code",
   "execution_count": 11,
   "metadata": {},
   "outputs": [
    {
     "name": "stdout",
     "output_type": "stream",
     "text": [
      "Martin tvé BMI je 20.0, což spadá do kategorie Zdravá váha.\n"
     ]
    }
   ],
   "source": [
    "#Cvičení 3: BMI kalkulačka\n",
    "\n",
    "jmeno=\"Martin\"\n",
    "vaha=80\n",
    "vyska=200\n",
    "bmi=vaha/(vyska/100)**2\n",
    "if bmi<18.5:\n",
    "    kategorie=\"Podvíživa\"\n",
    "elif bmi>=18.5 and bmi<25:\n",
    "    kategorie=\"Zdravá váha\"\n",
    "elif bmi>=25 and bmi<=30:\n",
    "    kategorie=\"Zdravá váha\"\n",
    "elif bmi>30 and bmi<=40:\n",
    "    kategorie=\"Zdravá váha\"\n",
    "else:\n",
    "    kategorie=\"Těžká obezita\"\n",
    "print(\"Martin tvé BMI je \" + str(bmi) + \", což spadá do kategorie \"+kategorie+\".\")\n",
    "\n",
    "\n"
   ]
  },
  {
   "cell_type": "code",
   "execution_count": 18,
   "metadata": {},
   "outputs": [
    {
     "name": "stdout",
     "output_type": "stream",
     "text": [
      "i počet znaků: 1\n"
     ]
    }
   ],
   "source": [
    "#Cvičení 4: Délka stringu\n",
    "zadana_slova = [\"Matous\", \"Martin\", \"ahoj\",\"er\", \"es\", \"i\", \"a\"]\n",
    "slovo=zadana_slova[-2]\n",
    "delaka_slova=len(slovo)\n",
    "if delaka_slova >= 4:\n",
    "    print(slovo +\" počet znaků: \"+ str(delaka_slova))\n",
    "elif delaka_slova <3 and delaka_slova >1:\n",
    "    print(slovo +\" počet znaků: 2\")\n",
    "else:\n",
    "    print(slovo +\" počet znaků: 1\")"
   ]
  },
  {
   "cell_type": "code",
   "execution_count": 22,
   "metadata": {},
   "outputs": [
    {
     "name": "stdout",
     "output_type": "stream",
     "text": [
      "Ukulele\n"
     ]
    }
   ],
   "source": [
    "print(\"ukulele\".capitalize())"
   ]
  },
  {
   "cell_type": "code",
   "execution_count": 25,
   "metadata": {},
   "outputs": [
    {
     "name": "stdout",
     "output_type": "stream",
     "text": [
      "['jablko', 'hruška', 'banán', 'pomeranč']\n",
      "<class 'str'>\n",
      "<class 'list'>\n"
     ]
    }
   ],
   "source": [
    "# Příklad řetězce s čárkami\n",
    "text = \"jablko,hruška,banán,pomeranč\"\n",
    "\n",
    "# Rozdělení řetězce na jednotlivé části podle čárky\n",
    "ovoce = text.split(',')\n",
    "\n",
    "# Výpis seznamu částí\n",
    "print(ovoce)\n",
    "print(type(text))\n",
    "print(type(ovoce))"
   ]
  },
  {
   "cell_type": "code",
   "execution_count": 33,
   "metadata": {},
   "outputs": [
    {
     "name": "stdout",
     "output_type": "stream",
     "text": [
      "Zaměstnanci na začátku: ['František', 'Anna', 'Jakub', 'Klára']\n",
      "Nová jména přidána: ['František', 'Anna', 'Jakub', 'Klára', 'Bruno', 'Anežka']\n",
      "Nová jména vložena: ['František', 'Bruno', 'Anna', 'Jakub', 'Klára']\n"
     ]
    }
   ],
   "source": [
    "#Cvičení 5: List, přidávání hodnot\n",
    "\n",
    "zamestnanci=['František', 'Anna', 'Jakub', 'Klára']\n",
    "print('Zaměstnanci na začátku: ' + str(zamestnanci))\n",
    "zamestnanci_a=zamestnanci.copy()\n",
    "zamestnanci_a.append('Bruno')\n",
    "zamestnanci_a.append('Anežka')\n",
    "print('Nová jména přidána: '+ str(zamestnanci_a))\n",
    "zamestnanci_b=zamestnanci.copy()\n",
    "zamestnanci_b.insert(1,'Bruno')\n",
    "print('Nová jména vložena: '+ str(zamestnanci_b))"
   ]
  },
  {
   "cell_type": "code",
   "execution_count": 55,
   "metadata": {},
   "outputs": [
    {
     "name": "stdout",
     "output_type": "stream",
     "text": [
      "Bruno odstraněn: ['Anežka']\n",
      "Opakování kandidáti: ['Anežka', 'Anežka', 'Anežka']\n",
      "Spojeni zaměstnanci:  ['František', 'Bruno', 'Anna', 'Jakub', 'Klára', 'Anežka', 'Anežka', 'Anežka']\n"
     ]
    }
   ],
   "source": [
    "#Cvičení 6: List, odstraňování hodnot\n",
    "kandidati = ['Bruno', 'Anežka']\n",
    "zamestnanci = ['František', 'Bruno', 'Anna', 'Jakub', 'Klára']\n",
    "bez_bruna=kandidati\n",
    "bez_bruna.remove('Bruno')\n",
    "print(\"Bruno odstraněn:\", bez_bruna)\n",
    "opakovani_kandidati=bez_bruna*3\n",
    "print(\"Opakování kandidáti:\", opakovani_kandidati)\n",
    "spojeni_zamestnanci=zamestnanci + opakovani_kandidati\n",
    "print(\"Spojeni zaměstnanci: \", spojeni_zamestnanci)\n"
   ]
  },
  {
   "cell_type": "code",
   "execution_count": 70,
   "metadata": {},
   "outputs": [
    {
     "name": "stdout",
     "output_type": "stream",
     "text": [
      "Správná vstupní hodnota\n",
      "Správné písmeno\n"
     ]
    }
   ],
   "source": [
    "#Cvičení 7: První písmeno\n",
    "vstupni_cisla = [1, 2, 3, 4, 5, 6, 7]\n",
    "vstupni_pismena = [\"p\", \"ú\", \"s\", \"č\", \"p\", \"s\", \"n\"]\n",
    "tyden = ('pondělí', 'úterý', 'středa', 'čtvrtek', 'pátek', 'sobota', 'neděle')\n",
    "cislo_dne=7\n",
    "cislo_dne in vstupni_cisla\n",
    "if cislo_dne not in vstupni_cisla:\n",
    "    print(\"Špatná vstupní hodnota\")\n",
    "else:\n",
    "    print(\"Správná vstupní hodnota\")\n",
    "    den_tydne=tyden[cislo_dne-1]\n",
    "    if den_tydne.startswith(vstupni_pismena[cislo_dne - 1]):\n",
    "        print(\"Správné písmeno\")\n",
    "    else:\n",
    "        print(\"Špatné písmeno\")\n",
    "    "
   ]
  },
  {
   "cell_type": "code",
   "execution_count": 5,
   "metadata": {},
   "outputs": [
    {
     "name": "stdout",
     "output_type": "stream",
     "text": [
      "User #01 {'name': 'Marek', 'surname': 'Parek', 'email': 'marek.parek@gmail.com'}\n",
      "User #01 {'name': 'Marek', 'surname': 'Parek', 'email': 'marek.parek@gmail.com'}\n",
      "User #01 {'name': 'Marek', 'surname': 'Parek', 'email': 'marek.parek@gmail.com'}\n"
     ]
    }
   ],
   "source": [
    "user_1={}\n",
    "user_1['name']='Marek'\n",
    "user_1['surname']='Parek'\n",
    "user_email={'email':'marek.parek@gmail.com'}\n",
    "user_1.update(user_email)\n",
    "print (f\"User #01 {user_1}\")\n",
    "print (\"User #01\", user_1)\n",
    "print (\"User #01 \" + str(user_1))"
   ]
  },
  {
   "cell_type": "code",
   "execution_count": 11,
   "metadata": {},
   "outputs": [
    {
     "name": "stdout",
     "output_type": "stream",
     "text": [
      "Všechny klíče: dict_keys(['employee01', 'employee02', 'employee03'])\n",
      "Všechny klíče: dict_values([{'name': 'Marek', 'surname': 'Parek', 'email': 'marek.parek@gmail.com'}, {'name': 'Matous', 'surname': 'Svatous', 'email': 'matous.svatous@gmail.com'}, {'name': 'anna', 'surname': 'rana', 'email': 'anna.rana@gmail.com'}])\n",
      "Všechny údaje k poslednímu zaměstnanci: dict_items([('name', 'anna'), ('surname', 'rana'), ('email', 'anna.rana@gmail.com')])\n"
     ]
    }
   ],
   "source": [
    "employees = {\n",
    "    'employee01': {\n",
    "        'name': 'Marek',\n",
    "        'surname': 'Parek',\n",
    "        'email': 'marek.parek@gmail.com'\n",
    "    },\n",
    "    'employee02': {\n",
    "        'name': 'Matous',\n",
    "        'surname': 'Svatous',\n",
    "        'email': 'matous.svatous@gmail.com'\n",
    "    },\n",
    "    'employee03': {\n",
    "        'name': 'anna',\n",
    "        'surname': 'rana',\n",
    "        'email': 'anna.rana@gmail.com'\n",
    "    }\n",
    "}\n",
    "print (\"Všechny klíče:\",employees.keys())\n",
    "print (\"Všechny klíče:\",employees.values())\n",
    "print (\"Všechny údaje k poslednímu zaměstnanci:\", employees[\"employee03\"].items())"
   ]
  },
  {
   "cell_type": "code",
   "execution_count": 13,
   "metadata": {},
   "outputs": [
    {
     "name": "stdout",
     "output_type": "stream",
     "text": [
      "{'id123': {'jmeno': 'Thomas', 'vek': 45, 'zeme': 'Czechia', 'mesto': 'Brno'}, 'id124': {'jmeno': 'Daniel', 'vek': 34, 'zeme': 'Czechia', 'mesto': 'Prague'}, 'id125': {'jmeno': 'Eva', 'vek': 43, 'zeme': 'Czechia', 'mesto': 'Olomouc'}}\n"
     ]
    }
   ],
   "source": [
    "id123 = {'jmeno': 'Thomas', 'vek': 45, 'zeme': 'Czechia', 'mesto': 'Brno'}\n",
    "id124 = {'jmeno': 'Daniel', 'vek': 34, 'zeme': 'Czechia', 'mesto': 'Prague'}\n",
    "id125 = {'jmeno': 'Eva', 'vek': 43, 'zeme': 'Czechia', 'mesto': 'Olomouc'}\n",
    "\n",
    "databaze = {'id123': {},'id124': {},'id125': {}}\n",
    "\n",
    "databaze['id123']=id123\n",
    "databaze['id124']=id124\n",
    "databaze['id125']=id125\n",
    "\n",
    "print(databaze)"
   ]
  },
  {
   "cell_type": "code",
   "execution_count": 21,
   "metadata": {},
   "outputs": [
    {
     "name": "stdout",
     "output_type": "stream",
     "text": [
      "Ahoj Marek vítej v aplikaci! Pokračuj...\n"
     ]
    }
   ],
   "source": [
    "jmeno = 'Marek'\n",
    "heslo = '1234'\n",
    "uzivatel = {'Marek': '1234'}\n",
    "\n",
    "if uzivatel==dict({jmeno: heslo}):\n",
    "    print (\"Ahoj Marek vítej v aplikaci! Pokračuj...\")\n",
    "\n",
    "else: \n",
    "    print (\"Uživatelské jméno nebo heslo nejsou v pořádku!\")"
   ]
  },
  {
   "cell_type": "code",
   "execution_count": 20,
   "metadata": {},
   "outputs": [
    {
     "name": "stdout",
     "output_type": "stream",
     "text": [
      "{'jmeno': '1234'}\n"
     ]
    }
   ],
   "source": [
    "jmeno = 'Marek'\n",
    "heslo = '1234'\n",
    "a=dict(jmeno=heslo)\n",
    "print(a)"
   ]
  },
  {
   "cell_type": "code",
   "execution_count": 30,
   "metadata": {},
   "outputs": [
    {
     "name": "stdout",
     "output_type": "stream",
     "text": [
      "a 140733650059480\n",
      "j 140733650059912\n",
      "a 140733650059480\n",
      "j 140733650059912\n"
     ]
    }
   ],
   "source": [
    "for i in \"ajaj\":\n",
    "    print(i, id(i))"
   ]
  },
  {
   "cell_type": "code",
   "execution_count": 38,
   "metadata": {},
   "outputs": [
    {
     "name": "stdout",
     "output_type": "stream",
     "text": [
      "1\n",
      "2\n",
      "3\n",
      "4\n",
      "5\n",
      "6\n",
      "7\n",
      "8\n",
      "9\n",
      "10\n",
      "11\n"
     ]
    }
   ],
   "source": [
    "for i in range(1,10):\n",
    "    print(i)"
   ]
  },
  {
   "cell_type": "code",
   "execution_count": 47,
   "metadata": {},
   "outputs": [
    {
     "name": "stdout",
     "output_type": "stream",
     "text": [
      "[1, 2, 3, 4, 5, 6, 7, 8, 9, 10]\n",
      "(1, 2, 3, 4, 5, 6, 7, 8, 9, 10)\n",
      "{1, 2, 3, 4, 5, 6, 7, 8, 9, 10}\n"
     ]
    }
   ],
   "source": [
    "print(list(range(1,11)))\n",
    "print(tuple(range(1,11)))\n",
    "print(set(range(1,11)))"
   ]
  },
  {
   "cell_type": "code",
   "execution_count": 51,
   "metadata": {},
   "outputs": [
    {
     "name": "stdout",
     "output_type": "stream",
     "text": [
      "0 0\n",
      "1 1\n",
      "2 3\n",
      "3 6\n",
      "4 6\n",
      "5 7\n",
      "6 9\n",
      "7 12\n",
      "8 12\n",
      "9 13\n",
      "10 15\n",
      "11 18\n",
      "12 18\n",
      "13 19\n",
      "14 21\n",
      "15 24\n",
      "16 24\n",
      "17 25\n",
      "18 27\n",
      "19 30\n",
      "20 30\n",
      "21 31\n",
      "22 33\n",
      "23 36\n",
      "24 36\n",
      "25 37\n",
      "26 39\n",
      "27 42\n",
      "28 42\n",
      "29 43\n",
      "30 45\n",
      "31 48\n",
      "32 48\n",
      "33 49\n",
      "34 51\n",
      "35 54\n",
      "36 54\n",
      "37 55\n",
      "38 57\n",
      "39 60\n",
      "40 60\n",
      "41 61\n",
      "42 63\n",
      "43 66\n",
      "44 66\n",
      "45 67\n",
      "46 69\n",
      "47 72\n",
      "48 72\n",
      "49 73\n",
      "50 75\n",
      "51 78\n",
      "52 78\n",
      "53 79\n",
      "54 81\n",
      "55 84\n",
      "56 84\n",
      "57 85\n",
      "58 87\n",
      "59 90\n",
      "60 90\n",
      "61 91\n",
      "62 93\n",
      "63 96\n",
      "64 96\n",
      "65 97\n",
      "66 99\n",
      "67 102\n",
      "68 102\n",
      "69 103\n",
      "70 105\n",
      "71 108\n",
      "72 108\n",
      "73 109\n",
      "74 111\n",
      "75 114\n",
      "76 114\n",
      "77 115\n",
      "78 117\n",
      "79 120\n",
      "80 120\n",
      "81 121\n",
      "82 123\n",
      "83 126\n",
      "84 126\n",
      "85 127\n",
      "86 129\n",
      "87 132\n",
      "88 132\n",
      "89 133\n",
      "90 135\n",
      "91 138\n",
      "92 138\n",
      "93 139\n",
      "94 141\n",
      "95 144\n",
      "96 144\n",
      "97 145\n",
      "98 147\n",
      "99 150\n",
      "100 150\n",
      "150\n"
     ]
    }
   ],
   "source": [
    "suma_zustatku = 0\n",
    "for i in range(101): \n",
    "    suma_zustatku += i % 4\n",
    "    print(i, suma_zustatku)\n",
    "print(suma_zustatku)"
   ]
  }
 ],
 "metadata": {
  "kernelspec": {
   "display_name": "Python 3",
   "language": "python",
   "name": "python3"
  },
  "language_info": {
   "codemirror_mode": {
    "name": "ipython",
    "version": 3
   },
   "file_extension": ".py",
   "mimetype": "text/x-python",
   "name": "python",
   "nbconvert_exporter": "python",
   "pygments_lexer": "ipython3",
   "version": "3.12.2"
  }
 },
 "nbformat": 4,
 "nbformat_minor": 2
}
